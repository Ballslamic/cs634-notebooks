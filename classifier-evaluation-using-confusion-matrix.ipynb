{
 "cells": [
  {
   "cell_type": "markdown",
   "metadata": {
    "_cell_guid": "b5b632c2-8ac7-4aaa-8ad5-30ed5b4b90ef",
    "_execution_state": "idle",
    "_uuid": "bd8c1f68153cc5578e790b07fb45e9cac46ea397"
   },
   "source": [
    "\n",
    "#Evaluation BEFORE and AFTER building a Machine Learning model##\n",
    "\n",
    "This basic Notebook explores methods for evaluation BEFORE and AFTER building a model. Evaluation of data and evaluation of model performance are key to any successful Machine Learning implementation so hope you find these tips helpful. This notebook was authored by Diego Schapira."
   ]
  },
  {
   "cell_type": "code",
   "execution_count": 3,
   "metadata": {
    "_cell_guid": "95b75d05-9d30-416b-bdb6-d6638bcf88a5",
    "_execution_state": "idle",
    "_uuid": "248fc410977b4b538a565ce6a0a7a773a41a1045"
   },
   "outputs": [],
   "source": [
    "# First of all let's import basic libraries and data to get started\n",
    "import numpy as np\n",
    "from numpy  import array\n",
    "import pandas as pd\n",
    "import matplotlib.pyplot as plt\n",
    "\n",
    "iris = pd.read_csv(\"data/iris-species/iris.csv\") # load data\n",
    "iris.drop('Id',axis=1,inplace=True) # Id column is redundant as df already assigns index"
   ]
  },
  {
   "cell_type": "code",
   "execution_count": 4,
   "metadata": {
    "_cell_guid": "ca32518c-9c2a-4609-8b65-7208fda9ce1f",
    "_execution_state": "idle",
    "_uuid": "57d28965cf16828455349369fe8297fb201d7cef"
   },
   "outputs": [
    {
     "name": "stdout",
     "output_type": "stream",
     "text": [
      "<class 'pandas.core.frame.DataFrame'>\n",
      "RangeIndex: 150 entries, 0 to 149\n",
      "Data columns (total 5 columns):\n",
      "SepalLengthCm    150 non-null float64\n",
      "SepalWidthCm     150 non-null float64\n",
      "PetalLengthCm    150 non-null float64\n",
      "PetalWidthCm     150 non-null float64\n",
      "Species          150 non-null object\n",
      "dtypes: float64(4), object(1)\n",
      "memory usage: 5.9+ KB\n"
     ]
    }
   ],
   "source": [
    "# DATA EXPLORATION...\n",
    "\n",
    "# Before starting pre-processing, basic descriptive statistics can help identify if \n",
    "# scaling/normalization of data is needed, or how variance varies between \n",
    "# features which is useful information for feature selection or at least understanding which \n",
    "# features might be most important for classification\n",
    "\n",
    "# dataframe.info gives basic information on data integrity (data types and detection of NaN values)\n",
    "iris.info()\n",
    "\n"
   ]
  },
  {
   "cell_type": "code",
   "execution_count": 5,
   "metadata": {
    "_cell_guid": "c0a194e0-a8d0-4cef-9aca-fd9475c1e262",
    "_execution_state": "idle",
    "_uuid": "dd3f74fb488c6050d302ef6bc1fe714a03079a02"
   },
   "outputs": [
    {
     "data": {
      "text/html": [
       "<div>\n",
       "<style scoped>\n",
       "    .dataframe tbody tr th:only-of-type {\n",
       "        vertical-align: middle;\n",
       "    }\n",
       "\n",
       "    .dataframe tbody tr th {\n",
       "        vertical-align: top;\n",
       "    }\n",
       "\n",
       "    .dataframe thead th {\n",
       "        text-align: right;\n",
       "    }\n",
       "</style>\n",
       "<table border=\"1\" class=\"dataframe\">\n",
       "  <thead>\n",
       "    <tr style=\"text-align: right;\">\n",
       "      <th></th>\n",
       "      <th>SepalLengthCm</th>\n",
       "      <th>SepalWidthCm</th>\n",
       "      <th>PetalLengthCm</th>\n",
       "      <th>PetalWidthCm</th>\n",
       "    </tr>\n",
       "  </thead>\n",
       "  <tbody>\n",
       "    <tr>\n",
       "      <th>count</th>\n",
       "      <td>150.000000</td>\n",
       "      <td>150.000000</td>\n",
       "      <td>150.000000</td>\n",
       "      <td>150.000000</td>\n",
       "    </tr>\n",
       "    <tr>\n",
       "      <th>mean</th>\n",
       "      <td>5.843333</td>\n",
       "      <td>3.054000</td>\n",
       "      <td>3.758667</td>\n",
       "      <td>1.198667</td>\n",
       "    </tr>\n",
       "    <tr>\n",
       "      <th>std</th>\n",
       "      <td>0.828066</td>\n",
       "      <td>0.433594</td>\n",
       "      <td>1.764420</td>\n",
       "      <td>0.763161</td>\n",
       "    </tr>\n",
       "    <tr>\n",
       "      <th>min</th>\n",
       "      <td>4.300000</td>\n",
       "      <td>2.000000</td>\n",
       "      <td>1.000000</td>\n",
       "      <td>0.100000</td>\n",
       "    </tr>\n",
       "    <tr>\n",
       "      <th>25%</th>\n",
       "      <td>5.100000</td>\n",
       "      <td>2.800000</td>\n",
       "      <td>1.600000</td>\n",
       "      <td>0.300000</td>\n",
       "    </tr>\n",
       "    <tr>\n",
       "      <th>50%</th>\n",
       "      <td>5.800000</td>\n",
       "      <td>3.000000</td>\n",
       "      <td>4.350000</td>\n",
       "      <td>1.300000</td>\n",
       "    </tr>\n",
       "    <tr>\n",
       "      <th>75%</th>\n",
       "      <td>6.400000</td>\n",
       "      <td>3.300000</td>\n",
       "      <td>5.100000</td>\n",
       "      <td>1.800000</td>\n",
       "    </tr>\n",
       "    <tr>\n",
       "      <th>max</th>\n",
       "      <td>7.900000</td>\n",
       "      <td>4.400000</td>\n",
       "      <td>6.900000</td>\n",
       "      <td>2.500000</td>\n",
       "    </tr>\n",
       "  </tbody>\n",
       "</table>\n",
       "</div>"
      ],
      "text/plain": [
       "       SepalLengthCm  SepalWidthCm  PetalLengthCm  PetalWidthCm\n",
       "count     150.000000    150.000000     150.000000    150.000000\n",
       "mean        5.843333      3.054000       3.758667      1.198667\n",
       "std         0.828066      0.433594       1.764420      0.763161\n",
       "min         4.300000      2.000000       1.000000      0.100000\n",
       "25%         5.100000      2.800000       1.600000      0.300000\n",
       "50%         5.800000      3.000000       4.350000      1.300000\n",
       "75%         6.400000      3.300000       5.100000      1.800000\n",
       "max         7.900000      4.400000       6.900000      2.500000"
      ]
     },
     "execution_count": 5,
     "metadata": {},
     "output_type": "execute_result"
    }
   ],
   "source": [
    "# Next I'm using dataframe.describe function. Works for both object and numeric\n",
    "iris.describe()\n",
    "\n",
    "# Means are in the same order of magnitude for all features so scaling might not be beneficial.\n",
    "# If mean values were of different orders of magnitude, scaling could significantly \n",
    "# improve accuracy of a classifier."
   ]
  },
  {
   "cell_type": "code",
   "execution_count": 6,
   "metadata": {
    "_cell_guid": "d5ec14dd-3973-4ff6-8acd-b30fee51e08b",
    "_execution_state": "idle",
    "_uuid": "2ee461305110eeb4e4de96fcd1e147ffda009219"
   },
   "outputs": [
    {
     "name": "stdout",
     "output_type": "stream",
     "text": [
      "X_scaled type is <class 'numpy.ndarray'>\n"
     ]
    },
    {
     "data": {
      "image/png": "[encoded data removed]",
      "text/plain": [
       "<Figure size 864x504 with 4 Axes>"
      ]
     },
     "metadata": {
      "needs_background": "light"
     },
     "output_type": "display_data"
    },
    {
     "data": {
      "text/html": [
       "<div>\n",
       "<style scoped>\n",
       "    .dataframe tbody tr th:only-of-type {\n",
       "        vertical-align: middle;\n",
       "    }\n",
       "\n",
       "    .dataframe tbody tr th {\n",
       "        vertical-align: top;\n",
       "    }\n",
       "\n",
       "    .dataframe thead th {\n",
       "        text-align: right;\n",
       "    }\n",
       "</style>\n",
       "<table border=\"1\" class=\"dataframe\">\n",
       "  <thead>\n",
       "    <tr style=\"text-align: right;\">\n",
       "      <th></th>\n",
       "      <th>s_SepalLength</th>\n",
       "      <th>s_SepalWidth</th>\n",
       "      <th>s_PetalLength</th>\n",
       "      <th>s_PetalWidth</th>\n",
       "    </tr>\n",
       "  </thead>\n",
       "  <tbody>\n",
       "    <tr>\n",
       "      <th>count</th>\n",
       "      <td>150.000000</td>\n",
       "      <td>150.000000</td>\n",
       "      <td>150.000000</td>\n",
       "      <td>150.000000</td>\n",
       "    </tr>\n",
       "    <tr>\n",
       "      <th>mean</th>\n",
       "      <td>0.428704</td>\n",
       "      <td>0.439167</td>\n",
       "      <td>0.467571</td>\n",
       "      <td>0.457778</td>\n",
       "    </tr>\n",
       "    <tr>\n",
       "      <th>std</th>\n",
       "      <td>0.230018</td>\n",
       "      <td>0.180664</td>\n",
       "      <td>0.299054</td>\n",
       "      <td>0.317984</td>\n",
       "    </tr>\n",
       "    <tr>\n",
       "      <th>min</th>\n",
       "      <td>0.000000</td>\n",
       "      <td>0.000000</td>\n",
       "      <td>0.000000</td>\n",
       "      <td>0.000000</td>\n",
       "    </tr>\n",
       "    <tr>\n",
       "      <th>25%</th>\n",
       "      <td>0.222222</td>\n",
       "      <td>0.333333</td>\n",
       "      <td>0.101695</td>\n",
       "      <td>0.083333</td>\n",
       "    </tr>\n",
       "    <tr>\n",
       "      <th>50%</th>\n",
       "      <td>0.416667</td>\n",
       "      <td>0.416667</td>\n",
       "      <td>0.567797</td>\n",
       "      <td>0.500000</td>\n",
       "    </tr>\n",
       "    <tr>\n",
       "      <th>75%</th>\n",
       "      <td>0.583333</td>\n",
       "      <td>0.541667</td>\n",
       "      <td>0.694915</td>\n",
       "      <td>0.708333</td>\n",
       "    </tr>\n",
       "    <tr>\n",
       "      <th>max</th>\n",
       "      <td>1.000000</td>\n",
       "      <td>1.000000</td>\n",
       "      <td>1.000000</td>\n",
       "      <td>1.000000</td>\n",
       "    </tr>\n",
       "  </tbody>\n",
       "</table>\n",
       "</div>"
      ],
      "text/plain": [
       "       s_SepalLength  s_SepalWidth  s_PetalLength  s_PetalWidth\n",
       "count     150.000000    150.000000     150.000000    150.000000\n",
       "mean        0.428704      0.439167       0.467571      0.457778\n",
       "std         0.230018      0.180664       0.299054      0.317984\n",
       "min         0.000000      0.000000       0.000000      0.000000\n",
       "25%         0.222222      0.333333       0.101695      0.083333\n",
       "50%         0.416667      0.416667       0.567797      0.500000\n",
       "75%         0.583333      0.541667       0.694915      0.708333\n",
       "max         1.000000      1.000000       1.000000      1.000000"
      ]
     },
     "execution_count": 6,
     "metadata": {},
     "output_type": "execute_result"
    }
   ],
   "source": [
    "# Although not essential for this dataset let's see if scaling provides additional insights.\n",
    "\n",
    "# First we need to split X, Y into separate sets to feed X to the scaler.\n",
    "X = iris.drop('Species',1)\n",
    "Y = iris.Species\n",
    "\n",
    "# Scaling of X\n",
    "from sklearn.preprocessing import MinMaxScaler\n",
    "scaler = MinMaxScaler()\n",
    "X_scaled = scaler.fit_transform(X)\n",
    "print('X_scaled type is',type(X_scaled))\n",
    "\n",
    "# As output of scaler is np array I'll transform back to df for easier exploration and plotting\n",
    "X_scaled_df = pd.DataFrame(X_scaled,columns=['s_SepalLength','s_SepalWidth',\n",
    "                                             's_PetalLength','s_PetalWidth'])\n",
    "df = pd.concat([X_scaled_df,Y],axis=1)\n",
    "\n",
    "# Notice x-axis on subplots are all the same for all features (0 to 1) after scaling.\n",
    "fig = plt.figure(figsize=(12,7))\n",
    "fig.suptitle('Frequency Distribution of Features by Species ',fontsize=20)\n",
    "\n",
    "ax1 = fig.add_subplot(221)\n",
    "df.groupby(\"Species\").s_PetalLength.plot(kind='hist',alpha=0.8,legend=True,title='s_PetalLength')\n",
    "ax2 = fig.add_subplot(222,sharey=ax1)\n",
    "df.groupby(\"Species\").s_PetalWidth.plot(kind='hist',alpha=0.8,legend=True,title='s_PetalWidth')\n",
    "ax3 = fig.add_subplot(223,sharey=ax1)\n",
    "df.groupby(\"Species\").s_SepalLength.plot(kind='hist',alpha=0.8,legend=True,title='s_SepalLength')\n",
    "ax4 = fig.add_subplot(224,sharey=ax1)\n",
    "df.groupby(\"Species\").s_SepalWidth.plot(kind='hist',alpha=0.8,legend=True,title='s_SepalWidth')\n",
    "\n",
    "plt.tight_layout(pad=4, w_pad=1, h_pad=1.5)\n",
    "plt.show()\n",
    "X_scaled_df.describe()"
   ]
  },
  {
   "cell_type": "code",
   "execution_count": 8,
   "metadata": {
    "_cell_guid": "043b07d2-d713-4037-a127-5c7fdc77c930",
    "_execution_state": "idle",
    "_uuid": "cb5411e30b6d8b3e221b0af4e022aba540daca69"
   },
   "outputs": [
    {
     "name": "stderr",
     "output_type": "stream",
     "text": [
      "/Users/pantelis/anaconda3/lib/python3.6/site-packages/seaborn/axisgrid.py:230: UserWarning: The `size` paramter has been renamed to `height`; please update your code.\n",
      "  warnings.warn(msg, UserWarning)\n"
     ]
    },
    {
     "data": {
      "image/png": "[encoded data removed]",
      "text/plain": [
       "<Figure size 535.5x432 with 1 Axes>"
      ]
     },
     "metadata": {
      "needs_background": "light"
     },
     "output_type": "display_data"
    }
   ],
   "source": [
    "# Another useful visualization I like to use during exploration is a 2D PCA plot.\n",
    "# It can quickly indicate how easy or difficult the classification problem is.\n",
    "# This is particularly relevant for high-dimensional datasets.\n",
    "\n",
    "from sklearn.decomposition import PCA\n",
    "# spliting input and target\n",
    "X = iris.drop('Species',1)\n",
    "Y = iris.Species\n",
    "\n",
    "pca = PCA(n_components=2).fit_transform(X) # pca output is an array\n",
    "pca_df = pd.DataFrame(pca,columns=['pca_1','pca_2']) # transforming back to df\n",
    "pca_Y = pd.concat([pca_df, Y],axis=1)\n",
    "\n",
    "# The 3 species cluster nicely which is a good indication a classifier can be trained \n",
    "# at high accuracy. \n",
    "# It is also expected that accuracy of identifying setosa will be higher.\n",
    "\n",
    "import matplotlib.pyplot as plt\n",
    "import seaborn as sns\n",
    "sns.FacetGrid(pca_Y, hue=\"Species\", palette=\"Set1\", size=6).map(plt.scatter, \"pca_1\", \"pca_2\").add_legend()\n",
    "plt.show()"
   ]
  },
  {
   "cell_type": "code",
   "execution_count": 10,
   "metadata": {
    "_cell_guid": "53fc1bb3-142e-4167-87d3-c423249272af",
    "_execution_state": "idle",
    "_uuid": "fcecc1e77516ceb1c372a29cbe1f7c180dd2b8a6"
   },
   "outputs": [
    {
     "name": "stdout",
     "output_type": "stream",
     "text": [
      "train sample size (105, 4) <class 'pandas.core.frame.DataFrame'>\n",
      "test sample size (45, 4) <class 'pandas.core.frame.DataFrame'>\n"
     ]
    }
   ],
   "source": [
    "# Let's now build a classifier and evaluate accuracy\n",
    "from sklearn.model_selection import train_test_split\n",
    "\n",
    "x_train, x_test, y_train, y_test = train_test_split(X, Y, test_size=0.3, random_state = 0)\n",
    "print(\"train sample size\",x_train.shape,type(x_train))\n",
    "print(\"test sample size\",x_test.shape,type(x_test))"
   ]
  },
  {
   "cell_type": "code",
   "execution_count": 11,
   "metadata": {
    "_cell_guid": "ebce6a7e-f8de-4ac3-8c4a-4388b662891c",
    "_execution_state": "idle",
    "_uuid": "d2e383b2870d0af9ab5cdb73f5ed5af4a3323985"
   },
   "outputs": [
    {
     "data": {
      "image/png": "[encoded data removed]",
      "text/plain": [
       "<Figure size 396x288 with 2 Axes>"
      ]
     },
     "metadata": {
      "needs_background": "light"
     },
     "output_type": "display_data"
    }
   ],
   "source": [
    "from sklearn.svm import SVC\n",
    "from sklearn.metrics import accuracy_score, confusion_matrix, precision_recall_fscore_support\n",
    "\n",
    "clf = SVC(kernel = 'linear').fit(x_train,y_train)\n",
    "clf.predict(x_train)\n",
    "y_pred = clf.predict(x_test)\n",
    "\n",
    "# Creates a confusion matrix\n",
    "cm = confusion_matrix(y_test, y_pred) \n",
    "\n",
    "# Transform to df for easier plotting\n",
    "cm_df = pd.DataFrame(cm,\n",
    "                     index = ['setosa','versicolor','virginica'], \n",
    "                     columns = ['setosa','versicolor','virginica'])\n",
    "\n",
    "plt.figure(figsize=(5.5,4))\n",
    "sns.heatmap(cm_df, annot=True)\n",
    "plt.title('SVM Linear Kernel \\nAccuracy:{0:.3f}'.format(accuracy_score(y_test, y_pred)))\n",
    "plt.ylabel('True label')\n",
    "plt.xlabel('Predicted label')\n",
    "plt.show()\n",
    "\n"
   ]
  },
  {
   "cell_type": "markdown",
   "metadata": {
    "_cell_guid": "e4c5b7a9-68da-4b09-bd7e-1b4690a2bf6f",
    "_execution_state": "idle",
    "_uuid": "294fa25aae5511672f1b7da3c9a82ac69f24c461"
   },
   "source": [
    "In this example the model overall accuracy on the test set was 0.978 (Accurate predictions/All or True Positives/All).\n",
    " \n",
    "However, the confusion matrix gives additional insight into accuracy by class and intuition for precision and recall efficiency.\n",
    " \n",
    "An insight we can get from the matrix is that the model was very accurate at classifying setosa and versicolor (True Positive/All = 1.0). However, accuracy for virginica was lower (11/12 = 0.917).\n",
    "\n",
    "If for any reason, successful classification of virginica was particularly desired to the use case (e.g. it's a poisonous plant), then the confusion matrix will help highlight differences between the classes. \n",
    "\n",
    "sklearn.metrics module has many functions that calculate evaluation scores like precision and recall. In this example I wanted to show the intuition for Machine Learning model evaluation beyond a simple assessment of overall test/pred accuracy."
   ]
  }
 ],
 "metadata": {
  "kernelspec": {
   "display_name": "Python 3",
   "language": "python",
   "name": "python3"
  },
  "language_info": {
   "codemirror_mode": {
    "name": "ipython",
    "version": 3
   },
   "file_extension": ".py",
   "mimetype": "text/x-python",
   "name": "python",
   "nbconvert_exporter": "python",
   "pygments_lexer": "ipython3",
   "version": "3.6.7"
  },
  "toc": {
   "base_numbering": 1,
   "nav_menu": {},
   "number_sections": true,
   "sideBar": true,
   "skip_h1_title": false,
   "title_cell": "Table of Contents",
   "title_sidebar": "Contents",
   "toc_cell": false,
   "toc_position": {},
   "toc_section_display": true,
   "toc_window_display": false
  }
 },
 "nbformat": 4,
 "nbformat_minor": 1
}
